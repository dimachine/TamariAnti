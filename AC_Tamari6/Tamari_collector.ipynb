{
 "cells": [
  {
   "cell_type": "code",
   "execution_count": 410,
   "metadata": {},
   "outputs": [],
   "source": [
    "from math import factorial\n"
   ]
  },
  {
   "cell_type": "code",
   "execution_count": 411,
   "metadata": {},
   "outputs": [],
   "source": [
    "from os import listdir,getcwd\n",
    "from os.path import isfile, join\n",
    "import re\n",
    "\n",
    "def CountCollector(cxtName):\n",
    "    onlyfiles = [f for f in listdir(getcwd()) if isfile(join(getcwd(), f))]\n",
    "    dic={}\n",
    "    fcnt=0\n",
    "    print(len(onlyfiles))\n",
    "\n",
    "    for f in onlyfiles:\n",
    "           if f[:len(cxtName)]==cxtName:\n",
    "                print(f)\n",
    "                result1 = re.search(r\"b_\\[([0-9_]+),\",f)\n",
    "                result2 = re.search(r\", (-?[0-9_]+)\\]\",f)\n",
    "                result3 = re.search(r\"c_([0-9_]+)_\",f)\n",
    "                if result1 and result2 and result3:\n",
    "                    S=int(result1.group(1))\n",
    "                    E=int(result2.group(1))\n",
    "                    cnt=int(result3.group(1))\n",
    "                    dic[(S,E)]=cnt\n",
    "                    fcnt+=1\n",
    "    print(\"Total branches:\",fcnt)\n",
    "    return dic"
   ]
  },
  {
   "cell_type": "code",
   "execution_count": 3,
   "metadata": {},
   "outputs": [],
   "source": [
    "def PartialCountCollector(cxtName,prefix):\n",
    "    onlyfiles = [f for f in listdir(getcwd()) if isfile(join(getcwd(), f))]\n",
    "    dic={}\n",
    "    fcnt=0\n",
    "    print(len(onlyfiles))\n",
    "\n",
    "    for f in onlyfiles:\n",
    "           if f[:len(cxtName)+len(prefix)]==prefix+cxtName:\n",
    "                print(f)\n",
    "                result1 = re.search(r\"b_\\[([0-9_]+),\",f)\n",
    "                result2 = re.search(r\", (-?[0-9_]+)\\]\",f)\n",
    "                if result1 and result2:\n",
    "                    S=int(result1.group(1))\n",
    "                    E=int(result2.group(1))\n",
    "                    with open(prefix+cxtName+\"_b_[\"+str(S)+\", \"+str(E)+\"]_log.txt\") as f:\n",
    "                        for line in f:\n",
    "                            pass\n",
    "                        last_line = line\n",
    "                    A,cnt=last_line.strip().split(\" \")                            \n",
    "                    dic[(S,E,int(A))]=int(cnt)\n",
    "                    fcnt+=1\n",
    "    print(\"Total branches:\",fcnt)\n",
    "    return dic"
   ]
  },
  {
   "cell_type": "code",
   "execution_count": 4,
   "metadata": {},
   "outputs": [],
   "source": [
    "def RemainderCountCollector(cxtName,prefix):\n",
    "    onlyfiles = [f for f in listdir(getcwd()) if isfile(join(getcwd(), f))]\n",
    "    dic_c={}\n",
    "    dic_r={}\n",
    "    \n",
    "    c_cnt=0\n",
    "    r_cnt=0\n",
    "    print(len(onlyfiles))\n",
    "    \n",
    "    \n",
    "    for f in onlyfiles:\n",
    "        if f[:len(cxtName)]==cxtName:\n",
    "            print(f)\n",
    "            result1 = re.search(r\"b_\\[([0-9_]+),\",f)\n",
    "            result2 = re.search(r\", (-?[0-9_]+)\\]\",f)\n",
    "            result3 = re.search(r\"c_([0-9_]+)_\",f)\n",
    "            if result1 and result2 and result3:\n",
    "                S=int(result1.group(1))\n",
    "                E=int(result2.group(1))\n",
    "                cnt=int(result3.group(1))\n",
    "                dic_c[(S,E)]=cnt\n",
    "                c_cnt+=1\n",
    "    print(\"Complete branches:\",c_cnt)\n",
    "    \n",
    "    \n",
    "    \n",
    "\n",
    "    for f in onlyfiles:\n",
    "           if f[:len(cxtName)+len(prefix)]==prefix+cxtName:\n",
    "                print(f)\n",
    "                result1 = re.search(r\"b_\\[([0-9_]+),\",f)\n",
    "                result2 = re.search(r\", (-?[0-9_]+)\\]\",f)\n",
    "                if result1 and result2:\n",
    "                    S=int(result1.group(1))\n",
    "                    E=int(result2.group(1))\n",
    "                    with open(prefix+cxtName+\"_b_[\"+str(S)+\", \"+str(E)+\"]_log.txt\") as f:\n",
    "                        for line in f:\n",
    "                            pass\n",
    "                        last_line = line\n",
    "                    A,cnt=last_line.strip().split(\" \")  \n",
    "                    if (S,E) not in dic_c:\n",
    "                        dic_r[(S,E,int(A))]=int(cnt)\n",
    "                        r_cnt+=1\n",
    "    print(\"Remained branches:\",r_cnt)\n",
    "    \n",
    "    print(c_cnt,r_cnt,\"All the branches so far:\",r_cnt+c_cnt)\n",
    "    return dic_c, dic_r"
   ]
  },
  {
   "cell_type": "code",
   "execution_count": 5,
   "metadata": {},
   "outputs": [
    {
     "data": {
      "text/plain": [
       "309"
      ]
     },
     "execution_count": 5,
     "metadata": {},
     "output_type": "execute_result"
    }
   ],
   "source": [
    "len([f for f in listdir(getcwd()) if isfile(join(getcwd(), f))])"
   ]
  },
  {
   "cell_type": "markdown",
   "metadata": {},
   "source": [
    "## Maximal antichains"
   ]
  },
  {
   "cell_type": "code",
   "execution_count": 112,
   "metadata": {},
   "outputs": [
    {
     "name": "stdout",
     "output_type": "stream",
     "text": [
      "309\n",
      "MA_Tamari6_b_[5675097, 6966450]_c_1866036_log.txt\n",
      "MA_Tamari6.cxt\n",
      "MA_Tamari6_b_[3665342, 8805021]_c_9713_log.txt\n",
      "MA_Tamari6_b_[12166798, 13542399]_c_1_log.txt\n",
      "MA_Tamari6_b_[7450661, 12440412]_c_2565_log.txt\n",
      "MA_Tamari6_b_[14745239, 6563468]_c_9_log.txt\n",
      "MA_Tamari6_b_[463266, 2382613]_c_1279457_log.txt\n",
      "MA_Tamari6_b_[8653238, 3665342]_c_185_log.txt\n",
      "MA_Tamari6_b_[6157302, 15485862]_c_1_log.txt\n",
      "MA_Tamari6_b_[6662289, 15426261]_c_407_log.txt\n",
      "MA_Tamari6_b_[14117159, 11177120]_c_5_log.txt\n",
      "MA_Tamari6_b_[8578048, 12772352]_c_334184_log.txt\n",
      "MA_Tamari6_b_[9797827, 9666740]_c_3734929_log.txt\n",
      "MA_Tamari6_b_[13542399, 6904271]_c_25_log.txt\n",
      "MA_Tamari6_b_[10815755, 7193497]_c_45676_log.txt\n",
      "MA_Tamari6_b_[6966450, 6997569]_c_895425_log.txt\n",
      "MA_Tamari6_b_[2382613, 9797827]_c_975616_log.txt\n",
      "MA_Tamari6_b_[622634, 15027435]_c_326453_log.txt\n",
      "MA_Tamari6_b_[9946511, 8653238]_c_1762928_log.txt\n",
      "MA_Tamari6_b_[3598516, 8671369]_c_79711_log.txt\n",
      "MA_Tamari6_b_[12288488, 12290664]_c_12163_log.txt\n",
      "MA_Tamari6_b_[15074819, 3325289]_c_335004_log.txt\n",
      "MA_Tamari6_b_[10703187, 10815755]_c_6144_log.txt\n",
      "MA_Tamari6_b_[7193497, 15434844]_c_74586_log.txt\n",
      "MA_Tamari6_b_[9666740, 9142392]_c_3334356_log.txt\n",
      "MA_Tamari6_b_[3440754, 4439632]_c_94_log.txt\n",
      "MA_Tamari6_b_[3834391, 12780673]_c_6429_log.txt\n",
      "MA_Tamari6_b_[12780673, 2108212]_c_6576_log.txt\n",
      "MA_Tamari6_b_[392056, 11371983]_c_1_log.txt\n",
      "MA_Tamari6_b_[10821582, 6157302]_c_1_log.txt\n",
      "MA_Tamari6_b_[14902827, 11987652]_c_1_log.txt\n",
      "MA_Tamari6_b_[11371983, 12156097]_c_3_log.txt\n",
      "MA_Tamari6_b_[13043669, 14745239]_c_306_log.txt\n",
      "MA_Tamari6_b_[10916069, 11908439]_c_14_log.txt\n",
      "MA_Tamari6_b_[8435144, 10916069]_c_9_log.txt\n",
      "MA_Tamari6_b_[12292456, 12329320]_c_145326_log.txt\n",
      "MA_Tamari6_b_[1, 12288428]_c_1_log.txt\n",
      "MA_Tamari6_b_[11908439, 392056]_c_27_log.txt\n",
      "MA_Tamari6_b_[15426261, 4875345]_c_62_log.txt\n",
      "MA_Tamari6_b_[7018315, 2132974]_c_980070_log.txt\n",
      "MA_Tamari6_b_[12440412, 3834391]_c_2376_log.txt\n",
      "MA_Tamari6_b_[9142392, 14141295]_c_138767_log.txt\n",
      "MA_Tamari6_b_[12698717, 7450661]_c_1491_log.txt\n",
      "MA_Tamari6_b_[13336936, 8578048]_c_5253_log.txt\n",
      "MA_Tamari6_b_[13724325, 14117159]_c_3_log.txt\n",
      "MA_Tamari6_b_[12567528, 7848155]_c_11173613_log.txt\n",
      "MA_Tamari6_b_[13904615, 14368048]_c_82868_log.txt\n",
      "MA_Tamari6_b_[8805021, 3598516]_c_31919_log.txt\n",
      "MA_Tamari6_b_[12288428, 12288432]_c_1978_log.txt\n",
      "MA_Tamari6_b_[12288440, 12288456]_c_129416_log.txt\n",
      "MA_Tamari6_b_[14368048, 8150845]_c_6084_log.txt\n",
      "MA_Tamari6_b_[12353896, 12681576]_c_943255_log.txt\n",
      "MA_Tamari6_b_[12681576, 12812648]_c_28987642_log.txt\n",
      "MA_Tamari6_b_[12288432, 12288440]_c_24294_log.txt\n",
      "MA_Tamari6_b_[2280303, 6662289]_c_228_log.txt\n",
      "MA_Tamari6_b_[2108212, 5461074]_c_1217_log.txt\n",
      "MA_Tamari6_b_[5463721, 15074819]_c_188163_log.txt\n",
      "MA_Tamari6_b_[12290920, 12291432]_c_2260324_log.txt\n",
      "MA_Tamari6_b_[6563468, 4690165]_c_48_log.txt\n",
      "MA_Tamari6_b_[6904271, 9113878]_c_50_log.txt\n",
      "MA_Tamari6_b_[12772352, 5675097]_c_1241590_log.txt\n",
      "MA_Tamari6_b_[12996564, 12166798]_c_1980_log.txt\n",
      "MA_Tamari6_b_[8671369, 5463721]_c_19103_log.txt\n",
      "MA_Tamari6_b_[4439632, 8435144]_c_78_log.txt\n",
      "MA_Tamari6_b_[12329320, 12337512]_c_6075177_log.txt\n",
      "MA_Tamari6_b_[4875345, 13043669]_c_339_log.txt\n",
      "MA_Tamari6_b_[2132974, 12567528]_c_11623004_log.txt\n",
      "MA_Tamari6_b_[14141295, 9946511]_c_586807_log.txt\n",
      "MA_Tamari6_b_[6997569, 1842530]_c_7321889_log.txt\n",
      "MA_Tamari6_b_[7246524, 463266]_c_484244_log.txt\n",
      "MA_Tamari6_b_[943559, 3440754]_c_43_log.txt\n",
      "MA_Tamari6_b_[5461074, 12996564]_c_1475_log.txt\n",
      "MA_Tamari6_b_[15434844, 9917291]_c_42985_log.txt\n",
      "MA_Tamari6_b_[9113878, 13533092]_c_103_log.txt\n",
      "MA_Tamari6_b_[1842530, 7018315]_c_11939290_log.txt\n",
      "MA_Tamari6_b_[11858309, 11202302]_c_31761_log.txt\n",
      "MA_Tamari6_b_[9917291, 13904615]_c_104007_log.txt\n",
      "MA_Tamari6_b_[12291432, 12292456]_c_9952442_log.txt\n",
      "MA_Tamari6_b_[12290664, 12290920]_c_1564488_log.txt\n",
      "MA_Tamari6_b_[11202302, 12698717]_c_185_log.txt\n",
      "MA_Tamari6_b_[12288456, 12288488]_c_684528_log.txt\n",
      "MA_Tamari6_b_[3325289, 622634]_c_49268_log.txt\n",
      "MA_Tamari6_b_[7848155, 7246524]_c_25922_log.txt\n",
      "MA_Tamari6_b_[8150845, 11858309]_c_14686_log.txt\n",
      "MA_Tamari6_b_[13533092, 2280303]_c_38_log.txt\n",
      "MA_Tamari6_b_[4690165, 943559]_c_72_log.txt\n",
      "MA_Tamari6_b_[15027435, 10703187]_c_282987_log.txt\n",
      "MA_Tamari6_b_[12812648, 13336936]_c_27177733_log.txt\n",
      "MA_Tamari6_b_[11177120, 14902827]_c_5_log.txt\n",
      "MA_Tamari6_b_[11987652, 10821582]_c_1_log.txt\n",
      "MA_Tamari6_b_[12337512, 12353896]_c_21697730_log.txt\n",
      "MA_Tamari6_b_[12156097, 13724325]_c_5_log.txt\n",
      "Complete branches: 91\n",
      "Remained branches: 0\n",
      "91 0 All the branches so far: 91\n"
     ]
    }
   ],
   "source": [
    "MA6_pair=RemainderCountCollector(\"MA_Tamari6\",\"temp_\")"
   ]
  },
  {
   "cell_type": "code",
   "execution_count": 7,
   "metadata": {},
   "outputs": [
    {
     "data": {
      "text/plain": [
       "(161117453, 0)"
      ]
     },
     "execution_count": 7,
     "metadata": {},
     "output_type": "execute_result"
    }
   ],
   "source": [
    "sum(MA6_pair[0].values()), sum(MA6_pair[1].values())"
   ]
  },
  {
   "cell_type": "code",
   "execution_count": 8,
   "metadata": {},
   "outputs": [],
   "source": [
    "MA6=sum(MA6_pair[0].values())+ sum(MA6_pair[1].values())"
   ]
  },
  {
   "cell_type": "code",
   "execution_count": 9,
   "metadata": {},
   "outputs": [
    {
     "data": {
      "text/plain": [
       "dict_values([1866036, 9713, 1, 2565, 9, 1279457, 185, 1, 407, 5, 334184, 3734929, 25, 45676, 895425, 975616, 326453, 1762928, 79711, 12163, 335004, 6144, 74586, 3334356, 94, 6429, 6576, 1, 1, 1, 3, 306, 14, 9, 145326, 1, 27, 62, 980070, 2376, 138767, 1491, 5253, 3, 11173613, 82868, 31919, 1978, 129416, 6084, 943255, 28987642, 24294, 228, 1217, 188163, 2260324, 48, 50, 1241590, 1980, 19103, 78, 6075177, 339, 11623004, 586807, 7321889, 484244, 43, 1475, 42985, 103, 11939290, 31761, 104007, 9952442, 1564488, 185, 684528, 49268, 25922, 14686, 38, 72, 282987, 27177733, 5, 1, 21697730, 5])"
      ]
     },
     "execution_count": 9,
     "metadata": {},
     "output_type": "execute_result"
    }
   ],
   "source": [
    "MA6_pair[0].values()"
   ]
  },
  {
   "cell_type": "code",
   "execution_count": 10,
   "metadata": {
    "scrolled": true
   },
   "outputs": [],
   "source": [
    "#MA7_pair=RemainderCountCollector(\"MA7_Dyck7\",\"temp_\")"
   ]
  },
  {
   "cell_type": "code",
   "execution_count": 11,
   "metadata": {},
   "outputs": [],
   "source": [
    "#sum(MA7_pair[0].values()), sum(MA7_pair[1].values())"
   ]
  },
  {
   "cell_type": "code",
   "execution_count": 12,
   "metadata": {},
   "outputs": [],
   "source": [
    "#sum(MA7_pair[0].values())/sum(MA7_pair[1].values())"
   ]
  },
  {
   "cell_type": "code",
   "execution_count": 13,
   "metadata": {},
   "outputs": [],
   "source": [
    "#sum(MA7_pair[0].values())+sum(MA7_pair[1].values())"
   ]
  },
  {
   "cell_type": "code",
   "execution_count": 14,
   "metadata": {},
   "outputs": [],
   "source": [
    "MA6=sum(MA6_pair[0].values())+sum(MA6_pair[1].values())"
   ]
  },
  {
   "cell_type": "code",
   "execution_count": 15,
   "metadata": {},
   "outputs": [],
   "source": [
    "#MA7_pair[1].values()"
   ]
  },
  {
   "cell_type": "code",
   "execution_count": 16,
   "metadata": {},
   "outputs": [
    {
     "data": {
      "text/plain": [
       "<matplotlib.legend.Legend at 0x7fb9f87c0430>"
      ]
     },
     "execution_count": 16,
     "metadata": {},
     "output_type": "execute_result"
    },
    {
     "data": {
      "image/png": "[encoded data removed]",
      "text/plain": [
       "<Figure size 576x720 with 1 Axes>"
      ]
     },
     "metadata": {
      "needs_background": "light"
     },
     "output_type": "display_data"
    }
   ],
   "source": [
    "from matplotlib import pyplot as plt \n",
    "plt.figure(figsize=(8,10))\n",
    "plt.yscale(\"log\")\n",
    "plt.plot(sorted(MA6_pair[0].values()),'m-o', label=\"MA6 milestone sums\")\n",
    "plt.legend(loc=\"upper left\")"
   ]
  },
  {
   "cell_type": "code",
   "execution_count": 11,
   "metadata": {},
   "outputs": [],
   "source": [
    "#(sum(MA7_pair[0].values())+sum(MA7_pair[1].values()))/MA6"
   ]
  },
  {
   "cell_type": "markdown",
   "metadata": {},
   "source": [
    "# Antichains"
   ]
  },
  {
   "cell_type": "code",
   "execution_count": 412,
   "metadata": {},
   "outputs": [
    {
     "name": "stdout",
     "output_type": "stream",
     "text": [
      "310\n",
      "AC_Tamari6_b_[8653238, 3480146]_c_233095_log.txt\n",
      "AC_Tamari6_b_[12777634, 11728938]_c_8848860_log.txt\n",
      "AC_Tamari6_b_[13826394, 13826458]_c_255604_log.txt\n",
      "AC_Tamari6_b_[259814, 2179161]_c_905051205_log.txt\n",
      "AC_Tamari6_b_[11239784, 8653238]_c_1106_log.txt\n",
      "AC_Tamari6_b_[11728938, 9631546]_c_124996087_log.txt\n",
      "AC_Tamari6_b_[5436762, 12533057]_c_172179980_log.txt\n",
      "AC_Tamari6_b_[12358173, 1291524]_c_4060_log.txt\n",
      "AC_Tamari6_b_[8775021, 3723712]_c_4270640550_log.txt\n",
      "AC_Tamari6_b_[13826346, 13826362]_c_167273449_log.txt\n",
      "AC_Tamari6_b_[1217068, 9981040]_c_5314_log.txt\n",
      "AC_Tamari6_b_[9502082, 5177834]_c_34913271_log.txt\n",
      "AC_Tamari6_b_[13830426, 13834522]_c_1906150557_log.txt\n",
      "AC_Tamari6_b_[5813133, 13285799]_c_2301413_log.txt\n",
      "AC_Tamari6_b_[12745268, 11664206]_c_34828572_log.txt\n",
      "AC_Tamari6_b_[11342099, 14745239]_c_20_log.txt\n",
      "AC_Tamari6_b_[10821582, 6157302]_c_1_log.txt\n",
      "AC_Tamari6_b_[12996564, 12166798]_c_28983_log.txt\n",
      "AC_Tamari6_b_[12514316, 11202302]_c_1106_log.txt\n",
      "AC_Tamari6_b_[13564156, 13301982]_c_267405570_log.txt\n",
      "AC_Tamari6_b_[9106957, 4387584]_c_4625172313_log.txt\n",
      "AC_Tamari6_b_[11664206, 9502082]_c_6870204_log.txt\n",
      "AC_Tamari6_b_[8319969, 2813608]_c_30325_log.txt\n",
      "AC_Tamari6_b_[4619895, 1300831]_c_82_log.txt\n",
      "AC_Tamari6_b_[13826334, 13826338]_c_1233720_log.txt\n",
      "AC_Tamari6_b_[10129952, 12320945]_c_1782_log.txt\n",
      "AC_Tamari6_b_[3153869, 7967271]_c_174373_log.txt\n",
      "AC_Tamari6_b_[2534771, 6729075]_c_282708467_log.txt\n",
      "AC_Tamari6_b_[444120, 8435144]_c_20_log.txt\n",
      "AC_Tamari6_b_[12166798, 4619895]_c_1_log.txt\n",
      "AC_Tamari6_b_[12015201, 10204072]_c_2210957_log.txt\n",
      "AC_Tamari6_b_[9981040, 12023121]_c_284_log.txt\n",
      "AC_Tamari6_b_[10148566, 12358173]_c_1174_log.txt\n",
      "AC_Tamari6_b_[13301982, 12777634]_c_899030078_log.txt\n",
      "AC_Tamari6_b_[0, 1]_c_1_log.txt\n",
      "AC_Tamari6_b_[11934471, 444120]_c_376_log.txt\n",
      "AC_Tamari6_b_[13285799, 12745268]_c_23808951_log.txt\n",
      "AC_Tamari6_b_[9640529, 11342099]_c_3143_log.txt\n",
      "AC_Tamari6_b_[6065656, 4192353]_c_459_log.txt\n",
      "AC_Tamari6_b_[9936715, 11934471]_c_177_log.txt\n",
      "AC_Tamari6_b_[2179161, 6017855]_c_129749131_log.txt\n",
      "AC_Tamari6_b_[9631546, 5436762]_c_336124667_log.txt\n",
      "AC_Tamari6_b_[13834522, 13842714]_c_4610034285_log.txt\n",
      "AC_Tamari6_b_[8438398, 8937837]_c_553_log.txt\n",
      "AC_Tamari6_b_[6157302, 15485862]_c_1_log.txt\n",
      "AC_Tamari6_b_[8692037, 3557744]_c_186402269_log.txt\n",
      "AC_Tamari6_b_[9019641, 10587869]_c_19_log.txt\n",
      "AC_Tamari6_b_[5755395, 13170323]_c_831276_log.txt\n",
      "AC_Tamari6_b_[3505879, 8671291]_c_2325566906_log.txt\n",
      "AC_Tamari6_b_[12023121, 621420]_c_2338_log.txt\n",
      "AC_Tamari6_b_[8937837, 9936715]_c_553_log.txt\n",
      "AC_Tamari6_b_[13859098, 13891866]_c_121197172_log.txt\n",
      "AC_Tamari6_b_[14823161, 334129]_c_2051404_log.txt\n",
      "AC_Tamari6_b_[13695243, 13564156]_c_1122887560_log.txt\n",
      "AC_Tamari6_b_[14902827, 12570687]_c_1_log.txt\n",
      "AC_Tamari6_b_[3480146, 8619825]_c_1660974_log.txt\n",
      "AC_Tamari6_b_[6581814, 14823161]_c_9103238_log.txt\n",
      "AC_Tamari6_b_[4387584, 10434701]_c_817213_log.txt\n",
      "AC_Tamari6_b_[3146016, 7951565]_c_13178154_log.txt\n",
      "AC_Tamari6_b_[13170323, 12514316]_c_1233720_log.txt\n",
      "AC_Tamari6.txt\n",
      "AC_Tamari6_b_[14745239, 6065656]_c_224_log.txt\n",
      "AC_Tamari6_b_[15117683, 923173]_c_3942185287_log.txt\n",
      "AC_Tamari6_b_[194199, 2047931]_c_942686_log.txt\n",
      "AC_Tamari6_b_[13826332, 13826334]_c_28983_log.txt\n",
      "AC_Tamari6_b_[13724325, 4511374]_c_11_log.txt\n",
      "AC_Tamari6_b_[7967271, 2108212]_c_14492_log.txt\n",
      "AC_Tamari6_b_[923173, 3505879]_c_102892403_log.txt\n",
      "AC_Tamari6_b_[13957402, 14088474]_c_19357797274_log.txt\n",
      "AC_Tamari6_b_[11202302, 8578274]_c_28946_log.txt\n",
      "AC_Tamari6_b_[7286749, 747168]_c_231330_log.txt\n",
      "AC_Tamari6_b_[1, 13826332]_c_1_log.txt\n",
      "AC_Tamari6_b_[2108212, 5875957]_c_48248_log.txt\n",
      "AC_Tamari6_b_[7951565, 2076800]_c_21256618_log.txt\n",
      "AC_Tamari6_b_[14350618, 14874906]_c_25190046483_log.txt\n",
      "AC_Tamari6_b_[13828378, 13830426]_c_9310048_log.txt\n",
      "AC_Tamari6_b_[10587869, 13724325]_c_4_log.txt\n",
      "AC_Tamari6_b_[7843470, 8235527]_c_7_log.txt\n",
      "AC_Tamari6_b_[747168, 3153869]_c_68262_log.txt\n",
      "AC_Tamari6_b_[5875957, 13411447]_c_55990_log.txt\n",
      "AC_Tamari6_b_[13842714, 13859098]_c_19249106662_log.txt\n",
      "AC_Tamari6_b_[13826586, 13826842]_c_732568383_log.txt\n",
      "AC_Tamari6_b_[2047931, 5755395]_c_1623234_log.txt\n",
      "AC_Tamari6_b_[6017855, 13695243]_c_964955085_log.txt\n",
      "AC_Tamari6_b_[4192353, 445747]_c_804_log.txt\n",
      "AC_Tamari6_b_[14874906, 437619]_c_96111_log.txt\n",
      "AC_Tamari6_b_[1291524, 10129952]_c_110_log.txt\n",
      "AC_Tamari6_b_[437619, 2534771]_c_28841348_log.txt\n",
      "AC_Tamari6.cxt\n",
      "AC_Tamari6_b_[621420, 8789744]_c_3351_log.txt\n",
      "AC_Tamari6_b_[1571335, 11177120]_c_4_log.txt\n",
      "AC_Tamari6_b_[2813608, 7286749]_c_189319_log.txt\n",
      "AC_Tamari6_b_[10434701, 7043072]_c_56260152_log.txt\n",
      "AC_Tamari6_b_[13826338, 13826346]_c_15811148_log.txt\n",
      "AC_Tamari6_b_[13891866, 13957402]_c_8601444510_log.txt\n",
      "AC_Tamari6_b_[2076800, 5813133]_c_49471171_log.txt\n",
      "AC_Tamari6_b_[4511374, 1571335]_c_11_log.txt\n",
      "AC_Tamari6_b_[9923699, 11908439]_c_63_log.txt\n",
      "AC_Tamari6_b_[392056, 7843470]_c_1_log.txt\n",
      "AC_Tamari6_b_[2327791, 6315115]_c_6837827_log.txt\n",
      "AC_Tamari6_b_[6729075, 15117683]_c_794322082_log.txt\n",
      "AC_Tamari6_b_[12320945, 1217068]_c_2338_log.txt\n",
      "AC_Tamari6_b_[14753196, 194199]_c_155507_log.txt\n",
      "AC_Tamari6_b_[10204072, 6581814]_c_5161683_log.txt\n",
      "AC_Tamari6_b_[7043072, 259814]_c_302911838_log.txt\n",
      "AC_Tamari6_b_[8235527, 9019641]_c_11_log.txt\n",
      "AC_Tamari6_b_[13826362, 13826394]_c_2481452256_log.txt\n",
      "AC_Tamari6_b_[13826458, 13826586]_c_205872375_log.txt\n",
      "AC_Tamari6_b_[8578274, 3330218]_c_87213_log.txt\n",
      "AC_Tamari6_b_[8619825, 3413320]_c_7439462_log.txt\n",
      "AC_Tamari6_b_[3330218, 8319969]_c_247255_log.txt\n",
      "AC_Tamari6_b_[14088474, 14350618]_c_1560919619_log.txt\n",
      "AC_Tamari6_b_[8671291, 3516252]_c_2556644514_log.txt\n",
      "AC_Tamari6_b_[8789744, 9640529]_c_829_log.txt\n",
      "AC_Tamari6_b_[8931329, 9923699]_c_125_log.txt\n",
      "AC_Tamari6_b_[3413320, 8486173]_c_27822733_log.txt\n",
      "AC_Tamari6_b_[13411447, 12996564]_c_27878_log.txt\n",
      "AC_Tamari6_b_[12533057, 11239784]_c_267905209_log.txt\n",
      "AC_Tamari6_b_[3723712, 9106957]_c_1017378364_log.txt\n",
      "AC_Tamari6_b_[3557744, 8775021]_c_2419978280_log.txt\n",
      "AC_Tamari6_b_[14289763, 14753196]_c_4786423_log.txt\n",
      "AC_Tamari6_b_[11987652, 10821582]_c_2_log.txt\n",
      "AC_Tamari6_b_[13826842, 13827354]_c_3116902504_log.txt\n",
      "AC_Tamari6_b_[3516252, 8692037]_c_6741896676_log.txt\n",
      "AC_Tamari6_b_[11908439, 392056]_c_82_log.txt\n",
      "AC_Tamari6_b_[8435144, 8931329]_c_86_log.txt\n",
      "AC_Tamari6_b_[8486173, 3146016]_c_476996_log.txt\n",
      "AC_Tamari6_b_[12570687, 11987652]_c_2_log.txt\n",
      "AC_Tamari6_b_[445747, 8438398]_c_177_log.txt\n",
      "AC_Tamari6_b_[5177834, 12015201]_c_155507_log.txt\n",
      "AC_Tamari6_b_[11177120, 14902827]_c_7_log.txt\n",
      "AC_Tamari6_b_[13827354, 13828378]_c_16381681188_log.txt\n",
      "AC_Tamari6_b_[6315115, 14289763]_c_2051404_log.txt\n",
      "AC_Tamari6_b_[334129, 2327791]_c_6837827_log.txt\n",
      "AC_Tamari6_b_[1300831, 10148566]_c_376_log.txt\n",
      "Complete branches: 133\n",
      "temp_AC_Tamari6_b_[3557744, 8775021]_log.txt\n",
      "temp_AC_Tamari6_b_[13826586, 13826842]_log.txt\n",
      "temp_AC_Tamari6_b_[13891866, 13957402]_log.txt\n",
      "temp_AC_Tamari6_b_[259814, 2179161]_log.txt\n",
      "temp_AC_Tamari6_b_[13859098, 13891866]_log.txt\n",
      "temp_AC_Tamari6_b_[7043072, 259814]_log.txt\n",
      "temp_AC_Tamari6_b_[13827354, 13828378]_log.txt\n",
      "temp_AC_Tamari6_b_[3516252, 8692037]_log.txt\n",
      "temp_AC_Tamari6_b_[13826842, 13827354]_log.txt\n",
      "temp_AC_Tamari6_b_[8775021, 3723712]_log.txt\n",
      "temp_AC_Tamari6_b_[9106957, 4387584]_log.txt\n",
      "temp_AC_Tamari6_b_[13842714, 13859098]_log.txt\n",
      "temp_AC_Tamari6_b_[2179161, 6017855]_log.txt\n",
      "temp_AC_Tamari6_b_[15117683, 923173]_log.txt\n",
      "temp_AC_Tamari6_b_[13826362, 13826394]_log.txt\n",
      "temp_AC_Tamari6_b_[11728938, 9631546]_log.txt\n",
      "temp_AC_Tamari6_b_[13826458, 13826586]_log.txt\n",
      "temp_AC_Tamari6_b_[14350618, 14874906]_log.txt\n",
      "temp_AC_Tamari6_b_[13564156, 13301982]_log.txt\n",
      "temp_AC_Tamari6_b_[12533057, 11239784]_log.txt\n",
      "temp_AC_Tamari6_b_[923173, 3505879]_log.txt\n",
      "temp_AC_Tamari6_b_[14088474, 14350618]_log.txt\n",
      "temp_AC_Tamari6_b_[8671291, 3516252]_log.txt\n",
      "temp_AC_Tamari6_b_[8692037, 3557744]_log.txt\n",
      "temp_AC_Tamari6_b_[13957402, 14088474]_log.txt\n",
      "temp_AC_Tamari6_b_[13695243, 13564156]_log.txt\n",
      "temp_AC_Tamari6_b_[13301982, 12777634]_log.txt\n",
      "temp_AC_Tamari6_b_[13830426, 13834522]_log.txt\n",
      "temp_AC_Tamari6_b_[2534771, 6729075]_log.txt\n",
      "temp_AC_Tamari6_b_[13826346, 13826362]_log.txt\n",
      "temp_AC_Tamari6_b_[13834522, 13842714]_log.txt\n",
      "temp_AC_Tamari6_b_[5436762, 12533057]_log.txt\n",
      "temp_AC_Tamari6_b_[6729075, 15117683]_log.txt\n",
      "temp_AC_Tamari6_b_[3723712, 9106957]_log.txt\n",
      "temp_AC_Tamari6_b_[3505879, 8671291]_log.txt\n",
      "temp_AC_Tamari6_b_[6017855, 13695243]_log.txt\n",
      "temp_AC_Tamari6_b_[9631546, 5436762]_log.txt\n",
      "Remained branches: 0\n",
      "133 0 All the branches so far: 133\n"
     ]
    }
   ],
   "source": [
    "A6_pair=RemainderCountCollector(\"AC_Tamari6\",\"temp_\")"
   ]
  },
  {
   "cell_type": "code",
   "execution_count": 413,
   "metadata": {},
   "outputs": [
    {
     "data": {
      "text/plain": [
       "(138832442543, 0)"
      ]
     },
     "execution_count": 413,
     "metadata": {},
     "output_type": "execute_result"
    }
   ],
   "source": [
    "sum(A6_pair[0].values()), sum(A6_pair[1].values())"
   ]
  },
  {
   "cell_type": "code",
   "execution_count": 414,
   "metadata": {},
   "outputs": [],
   "source": [
    "A6=sum(A6_pair[0].values())+ sum(A6_pair[1].values())"
   ]
  },
  {
   "cell_type": "code",
   "execution_count": 415,
   "metadata": {},
   "outputs": [
    {
     "data": {
      "text/plain": [
       "dict_values([])"
      ]
     },
     "execution_count": 415,
     "metadata": {},
     "output_type": "execute_result"
    }
   ],
   "source": [
    "A6_pair[1].values()"
   ]
  },
  {
   "cell_type": "code",
   "execution_count": 416,
   "metadata": {},
   "outputs": [
    {
     "data": {
      "text/plain": [
       "dict_values([233095, 8848860, 255604, 905051205, 1106, 124996087, 172179980, 4060, 4270640550, 167273449, 5314, 34913271, 1906150557, 2301413, 34828572, 20, 1, 28983, 1106, 267405570, 4625172313, 6870204, 30325, 82, 1233720, 1782, 174373, 282708467, 20, 1, 2210957, 284, 1174, 899030078, 1, 376, 23808951, 3143, 459, 177, 129749131, 336124667, 4610034285, 553, 1, 186402269, 19, 831276, 2325566906, 2338, 553, 121197172, 2051404, 1122887560, 1, 1660974, 9103238, 817213, 13178154, 1233720, 224, 3942185287, 942686, 28983, 11, 14492, 102892403, 19357797274, 28946, 231330, 1, 48248, 21256618, 25190046483, 9310048, 4, 7, 68262, 55990, 19249106662, 732568383, 1623234, 964955085, 804, 96111, 110, 28841348, 3351, 4, 189319, 56260152, 15811148, 8601444510, 49471171, 11, 63, 1, 6837827, 794322082, 2338, 155507, 5161683, 302911838, 11, 2481452256, 205872375, 87213, 7439462, 247255, 1560919619, 2556644514, 829, 125, 27822733, 27878, 267905209, 1017378364, 2419978280, 4786423, 2, 3116902504, 6741896676, 82, 86, 476996, 2, 177, 155507, 7, 16381681188, 2051404, 6837827, 376])"
      ]
     },
     "execution_count": 416,
     "metadata": {},
     "output_type": "execute_result"
    }
   ],
   "source": [
    "A6_pair[0].values()"
   ]
  },
  {
   "cell_type": "code",
   "execution_count": 417,
   "metadata": {},
   "outputs": [],
   "source": [
    "#A7_pair=RemainderCountCollector(\"A7_Dyck7\",\"temp_\")"
   ]
  },
  {
   "cell_type": "code",
   "execution_count": null,
   "metadata": {},
   "outputs": [],
   "source": []
  },
  {
   "cell_type": "code",
   "execution_count": 418,
   "metadata": {},
   "outputs": [],
   "source": [
    "#sum(A7_pair[0].values()), sum(A7_pair[1].values())"
   ]
  },
  {
   "cell_type": "code",
   "execution_count": 419,
   "metadata": {},
   "outputs": [],
   "source": [
    "#sum(A7_pair[0].values())+ sum(A7_pair[1].values())"
   ]
  },
  {
   "cell_type": "code",
   "execution_count": 420,
   "metadata": {},
   "outputs": [],
   "source": [
    "A6=sum(A6_pair[0].values())+ sum(A6_pair[1].values())"
   ]
  },
  {
   "cell_type": "code",
   "execution_count": 422,
   "metadata": {},
   "outputs": [],
   "source": [
    "#sum(A6_pair[0].values())/ sum(A6_pair[1].values())\n"
   ]
  },
  {
   "cell_type": "code",
   "execution_count": 423,
   "metadata": {},
   "outputs": [],
   "source": [
    "#A7_pair[0].values()"
   ]
  },
  {
   "cell_type": "code",
   "execution_count": 424,
   "metadata": {},
   "outputs": [
    {
     "data": {
      "text/plain": [
       "<matplotlib.legend.Legend at 0x7fb9a877d340>"
      ]
     },
     "execution_count": 424,
     "metadata": {},
     "output_type": "execute_result"
    },
    {
     "data": {
      "image/png": "[encoded data removed]",
      "text/plain": [
       "<Figure size 576x720 with 1 Axes>"
      ]
     },
     "metadata": {
      "needs_background": "light"
     },
     "output_type": "display_data"
    }
   ],
   "source": [
    "from matplotlib import pyplot as plt \n",
    "plt.figure(figsize=(8,10))\n",
    "plt.yscale(\"log\")\n",
    "plt.plot(sorted(A6_pair[0].values()),'y-o', label=\"A6 milestone sums\")\n",
    "plt.legend(loc=\"upper left\")"
   ]
  },
  {
   "cell_type": "code",
   "execution_count": 425,
   "metadata": {},
   "outputs": [
    {
     "data": {
      "text/plain": [
       "dict_values([])"
      ]
     },
     "execution_count": 425,
     "metadata": {},
     "output_type": "execute_result"
    }
   ],
   "source": [
    "A6_pair[1].values()"
   ]
  },
  {
   "cell_type": "code",
   "execution_count": 426,
   "metadata": {},
   "outputs": [
    {
     "data": {
      "text/plain": [
       "4789968.346087497"
      ]
     },
     "execution_count": 426,
     "metadata": {},
     "output_type": "execute_result"
    }
   ],
   "source": [
    "(sum(A6_pair[0].values())+ sum(A6_pair[1].values()))/AC[5]"
   ]
  },
  {
   "cell_type": "code",
   "execution_count": 427,
   "metadata": {},
   "outputs": [
    {
     "data": {
      "text/plain": [
       "[1,\n",
       " 1,\n",
       " 1,\n",
       " 1,\n",
       " 1,\n",
       " 1,\n",
       " 1,\n",
       " 2,\n",
       " 2,\n",
       " 4,\n",
       " 4,\n",
       " 7,\n",
       " 7,\n",
       " 11,\n",
       " 11,\n",
       " 11,\n",
       " 19,\n",
       " 20,\n",
       " 20,\n",
       " 63,\n",
       " 82,\n",
       " 82,\n",
       " 86,\n",
       " 110,\n",
       " 125,\n",
       " 177,\n",
       " 177,\n",
       " 224,\n",
       " 284,\n",
       " 376,\n",
       " 376,\n",
       " 459,\n",
       " 553,\n",
       " 553,\n",
       " 804,\n",
       " 829,\n",
       " 1106,\n",
       " 1106,\n",
       " 1174,\n",
       " 1782,\n",
       " 2338,\n",
       " 2338,\n",
       " 3143,\n",
       " 3351,\n",
       " 4060,\n",
       " 5314,\n",
       " 14492,\n",
       " 27878,\n",
       " 28946,\n",
       " 28983,\n",
       " 28983,\n",
       " 30325,\n",
       " 48248,\n",
       " 55990,\n",
       " 68262,\n",
       " 87213,\n",
       " 96111,\n",
       " 155507,\n",
       " 155507,\n",
       " 174373,\n",
       " 189319,\n",
       " 231330,\n",
       " 233095,\n",
       " 247255,\n",
       " 255604,\n",
       " 476996,\n",
       " 817213,\n",
       " 831276,\n",
       " 942686,\n",
       " 1233720,\n",
       " 1233720,\n",
       " 1623234,\n",
       " 1660974,\n",
       " 2051404,\n",
       " 2051404,\n",
       " 2210957,\n",
       " 2301413,\n",
       " 4786423,\n",
       " 5161683,\n",
       " 6837827,\n",
       " 6837827,\n",
       " 6870204,\n",
       " 7439462,\n",
       " 8848860,\n",
       " 9103238,\n",
       " 9310048,\n",
       " 13178154,\n",
       " 15811148,\n",
       " 21256618,\n",
       " 23808951,\n",
       " 27822733,\n",
       " 28841348,\n",
       " 34828572,\n",
       " 34913271,\n",
       " 49471171,\n",
       " 56260152,\n",
       " 102892403,\n",
       " 121197172,\n",
       " 124996087,\n",
       " 129749131,\n",
       " 167273449,\n",
       " 172179980,\n",
       " 186402269,\n",
       " 205872375,\n",
       " 267405570,\n",
       " 267905209,\n",
       " 282708467,\n",
       " 302911838,\n",
       " 336124667,\n",
       " 732568383,\n",
       " 794322082,\n",
       " 899030078,\n",
       " 905051205,\n",
       " 964955085,\n",
       " 1017378364,\n",
       " 1122887560,\n",
       " 1560919619,\n",
       " 1906150557,\n",
       " 2325566906,\n",
       " 2419978280,\n",
       " 2481452256,\n",
       " 2556644514,\n",
       " 3116902504,\n",
       " 3942185287,\n",
       " 4270640550,\n",
       " 4610034285,\n",
       " 4625172313,\n",
       " 6741896676,\n",
       " 8601444510,\n",
       " 16381681188,\n",
       " 19249106662,\n",
       " 19357797274,\n",
       " 25190046483]"
      ]
     },
     "execution_count": 427,
     "metadata": {},
     "output_type": "execute_result"
    }
   ],
   "source": [
    "sorted(A6_pair[0].values())"
   ]
  },
  {
   "cell_type": "markdown",
   "metadata": {},
   "source": [
    "# Plots"
   ]
  },
  {
   "cell_type": "code",
   "execution_count": 428,
   "metadata": {},
   "outputs": [],
   "source": [
    "AC=[2, 2, 3, 8, 83, 28984]"
   ]
  },
  {
   "cell_type": "code",
   "execution_count": 433,
   "metadata": {},
   "outputs": [],
   "source": [
    "MA=[1, 1, 2, 4, 26, 1979, 161117453]"
   ]
  },
  {
   "cell_type": "code",
   "execution_count": 434,
   "metadata": {},
   "outputs": [],
   "source": [
    "MA6=MA[6]"
   ]
  },
  {
   "cell_type": "code",
   "execution_count": 435,
   "metadata": {},
   "outputs": [],
   "source": [
    "from matplotlib import pyplot as plt "
   ]
  },
  {
   "cell_type": "code",
   "execution_count": 436,
   "metadata": {},
   "outputs": [
    {
     "data": {
      "text/plain": [
       "<matplotlib.legend.Legend at 0x7fb9b8e23c40>"
      ]
     },
     "execution_count": 436,
     "metadata": {},
     "output_type": "execute_result"
    },
    {
     "data": {
      "image/png": "[encoded data removed]",
      "text/plain": [
       "<Figure size 576x720 with 1 Axes>"
      ]
     },
     "metadata": {
      "needs_background": "light"
     },
     "output_type": "display_data"
    }
   ],
   "source": [
    "plt.figure(figsize=(8,10))\n",
    "plt.yscale(\"log\")\n",
    "#plt.plot([6],[MA6],'y-v', label=\"MA6\")\n",
    "plt.plot([6],[A6], 'k-v', label=\"AC6\")\n",
    "plt.plot(MA,'y-*', label=\"MA\")\n",
    "plt.plot(AC, 'k-o', label=\"AC\")\n",
    "\n",
    "\n",
    "plt.legend(loc=\"upper left\")\n",
    "\n"
   ]
  },
  {
   "cell_type": "code",
   "execution_count": 437,
   "metadata": {},
   "outputs": [],
   "source": [
    "AC_MA=[AC[n]/MA[n] for n in range(6)]"
   ]
  },
  {
   "cell_type": "code",
   "execution_count": 438,
   "metadata": {},
   "outputs": [
    {
     "data": {
      "text/plain": [
       "[2.0, 2.0, 1.5, 2.0, 3.1923076923076925, 14.64578069732188]"
      ]
     },
     "execution_count": 438,
     "metadata": {},
     "output_type": "execute_result"
    }
   ],
   "source": [
    "AC_MA"
   ]
  },
  {
   "cell_type": "code",
   "execution_count": 439,
   "metadata": {},
   "outputs": [],
   "source": [
    "from math import log, exp\n",
    "log_log_AC_MA=[log(log(AC[n]/MA[n])) for n in range(6)]"
   ]
  },
  {
   "cell_type": "code",
   "execution_count": 440,
   "metadata": {},
   "outputs": [
    {
     "data": {
      "text/plain": [
       "1.000631880307906"
      ]
     },
     "execution_count": 440,
     "metadata": {},
     "output_type": "execute_result"
    }
   ],
   "source": [
    "log(2.72)"
   ]
  },
  {
   "cell_type": "code",
   "execution_count": 441,
   "metadata": {},
   "outputs": [
    {
     "data": {
      "text/plain": [
       "<matplotlib.legend.Legend at 0x7fb9b8e6cc10>"
      ]
     },
     "execution_count": 441,
     "metadata": {},
     "output_type": "execute_result"
    },
    {
     "data": {
      "image/png": "[encoded data removed]",
      "text/plain": [
       "<Figure size 576x720 with 1 Axes>"
      ]
     },
     "metadata": {
      "needs_background": "light"
     },
     "output_type": "display_data"
    }
   ],
   "source": [
    "plt.figure(figsize=(8,10))\n",
    "#plt.yscale(\"log\")\n",
    "plt.plot(line,'k-*', label=\"Approximation\")\n",
    "#plt.plot([7],[A7/MA7],'m-v', label=\"Current value\")\n",
    "plt.plot(log_log_AC_MA,'y-o', label=\"LogLog Ratio\")\n",
    "plt.legend(loc=\"upper left\")"
   ]
  },
  {
   "cell_type": "code",
   "execution_count": 442,
   "metadata": {},
   "outputs": [
    {
     "data": {
      "text/plain": [
       "[-0.36651292058166435,\n",
       " -0.36651292058166435,\n",
       " -0.90272045571788,\n",
       " -0.36651292058166435,\n",
       " 0.1490612389452188,\n",
       " 0.9873649563121998]"
      ]
     },
     "execution_count": 442,
     "metadata": {},
     "output_type": "execute_result"
    }
   ],
   "source": [
    "log_log_AC_MA"
   ]
  },
  {
   "cell_type": "code",
   "execution_count": 443,
   "metadata": {},
   "outputs": [],
   "source": [
    "a=log_log_AC_MA[5]-log_log_AC_MA[4]"
   ]
  },
  {
   "cell_type": "code",
   "execution_count": null,
   "metadata": {},
   "outputs": [],
   "source": []
  },
  {
   "cell_type": "code",
   "execution_count": 444,
   "metadata": {},
   "outputs": [],
   "source": [
    "b=log_log_AC_MA[5]-5*a"
   ]
  },
  {
   "cell_type": "code",
   "execution_count": 445,
   "metadata": {},
   "outputs": [
    {
     "data": {
      "text/plain": [
       "(0.838303717366981, -3.204153630522705)"
      ]
     },
     "execution_count": 445,
     "metadata": {},
     "output_type": "execute_result"
    }
   ],
   "source": [
    "a,b"
   ]
  },
  {
   "cell_type": "code",
   "execution_count": 446,
   "metadata": {},
   "outputs": [],
   "source": [
    "line=[a*x+b for x in range(8)]"
   ]
  },
  {
   "cell_type": "code",
   "execution_count": 447,
   "metadata": {},
   "outputs": [
    {
     "data": {
      "text/plain": [
       "[-3.204153630522705,\n",
       " -2.3658499131557242,\n",
       " -1.527546195788743,\n",
       " -0.6892424784217619,\n",
       " 0.14906123894521883,\n",
       " 0.9873649563121996,\n",
       " 1.8256686736791812,\n",
       " 2.663972391046162]"
      ]
     },
     "execution_count": 447,
     "metadata": {},
     "output_type": "execute_result"
    }
   ],
   "source": [
    "line"
   ]
  },
  {
   "cell_type": "code",
   "execution_count": 448,
   "metadata": {},
   "outputs": [
    {
     "data": {
      "text/plain": [
       "1712033.658675704"
      ]
     },
     "execution_count": 448,
     "metadata": {},
     "output_type": "execute_result"
    }
   ],
   "source": [
    "exp(exp(line[-1]))"
   ]
  },
  {
   "cell_type": "code",
   "execution_count": 449,
   "metadata": {},
   "outputs": [
    {
     "data": {
      "text/plain": [
       "14.64578069732188"
      ]
     },
     "execution_count": 449,
     "metadata": {},
     "output_type": "execute_result"
    }
   ],
   "source": [
    "AC[5]/MA[5]"
   ]
  },
  {
   "cell_type": "code",
   "execution_count": 450,
   "metadata": {},
   "outputs": [],
   "source": [
    "log_AC=[log(AC[n]) for n in range(6)]"
   ]
  },
  {
   "cell_type": "code",
   "execution_count": 451,
   "metadata": {},
   "outputs": [],
   "source": [
    "log_MA=[log(MA[n]) for n in range(6)]"
   ]
  },
  {
   "cell_type": "code",
   "execution_count": 452,
   "metadata": {},
   "outputs": [
    {
     "data": {
      "text/plain": [
       "<matplotlib.legend.Legend at 0x7fb9e87fb7f0>"
      ]
     },
     "execution_count": 452,
     "metadata": {},
     "output_type": "execute_result"
    },
    {
     "data": {
      "image/png": "[encoded data removed]",
      "text/plain": [
       "<Figure size 1152x2160 with 1 Axes>"
      ]
     },
     "metadata": {
      "needs_background": "light"
     },
     "output_type": "display_data"
    }
   ],
   "source": [
    "plt.figure(figsize=(16,30))\n",
    "#plt.yscale(\"log\")\n",
    "#plt.xscale(\"log\")\n",
    "\n",
    "plt.xticks(list(range(10)))\n",
    "\n",
    "plt.plot(log_AC,'m-*', label=\"Log AC\")\n",
    "plt.plot(log_MA,'y-o', label=\"Log MA\")\n",
    "plt.plot([6],log(MA[6]),'yo', label=\"MA6\")\n",
    "plt.plot([6],log(A6),'mo', label=\"A6\")\n",
    "plt.plot(curve,'b-v', label=\"MA Approximation\")\n",
    "plt.plot(curve_AC,'k-v', label=\"AC Approximation\")\n",
    "#plt.plot(curve_AC_45,'g-*', label=\"AC Approximation\")\n",
    "\n",
    "\n",
    "plt.legend(loc=\"upper left\")"
   ]
  },
  {
   "cell_type": "code",
   "execution_count": 453,
   "metadata": {},
   "outputs": [],
   "source": [
    "a=log_MA[-2]-log_MA[-1]"
   ]
  },
  {
   "cell_type": "code",
   "execution_count": 454,
   "metadata": {},
   "outputs": [
    {
     "data": {
      "text/plain": [
       "-4.332250407581084"
      ]
     },
     "execution_count": 454,
     "metadata": {},
     "output_type": "execute_result"
    }
   ],
   "source": [
    "a"
   ]
  },
  {
   "cell_type": "code",
   "execution_count": 455,
   "metadata": {},
   "outputs": [],
   "source": [
    "b=log_MA[-1]-5*a"
   ]
  },
  {
   "cell_type": "code",
   "execution_count": 456,
   "metadata": {},
   "outputs": [
    {
     "data": {
      "text/plain": [
       "29.251598983507986"
      ]
     },
     "execution_count": 456,
     "metadata": {},
     "output_type": "execute_result"
    }
   ],
   "source": [
    "b"
   ]
  },
  {
   "cell_type": "code",
   "execution_count": 457,
   "metadata": {},
   "outputs": [],
   "source": [
    "line2=[a*x+b for x in range(7)]"
   ]
  },
  {
   "cell_type": "code",
   "execution_count": 458,
   "metadata": {},
   "outputs": [
    {
     "data": {
      "text/plain": [
       "[29.251598983507986,\n",
       " 24.919348575926904,\n",
       " 20.58709816834582,\n",
       " 16.254847760764733,\n",
       " 11.92259735318365,\n",
       " 7.590346945602565,\n",
       " 3.2580965380214835]"
      ]
     },
     "execution_count": 458,
     "metadata": {},
     "output_type": "execute_result"
    }
   ],
   "source": [
    "line2"
   ]
  },
  {
   "cell_type": "code",
   "execution_count": 459,
   "metadata": {},
   "outputs": [],
   "source": [
    "curve=[(log_MA[-1]**(n-4))/(log_MA[-2]**(n-5)) for n in range(7)]"
   ]
  },
  {
   "cell_type": "code",
   "execution_count": 460,
   "metadata": {},
   "outputs": [
    {
     "data": {
      "text/plain": [
       "17.68313678931214"
      ]
     },
     "execution_count": 460,
     "metadata": {},
     "output_type": "execute_result"
    }
   ],
   "source": [
    "curve[-1]"
   ]
  },
  {
   "cell_type": "code",
   "execution_count": 461,
   "metadata": {},
   "outputs": [
    {
     "data": {
      "text/plain": [
       "(47828716.91316059, 161117453)"
      ]
     },
     "execution_count": 461,
     "metadata": {},
     "output_type": "execute_result"
    }
   ],
   "source": [
    "exp(curve[-1]), MA[6]"
   ]
  },
  {
   "cell_type": "code",
   "execution_count": 462,
   "metadata": {},
   "outputs": [
    {
     "data": {
      "text/plain": [
       "0.2968562127975086"
      ]
     },
     "execution_count": 462,
     "metadata": {},
     "output_type": "execute_result"
    }
   ],
   "source": [
    "exp(curve[-1])/MA[6]"
   ]
  },
  {
   "cell_type": "code",
   "execution_count": 463,
   "metadata": {},
   "outputs": [
    {
     "data": {
      "text/plain": [
       "[0.1106046108948173,\n",
       " 0.25767418511940393,\n",
       " 0.6003003413672338,\n",
       " 1.3985122323318084,\n",
       " 3.258096538021482,\n",
       " 7.590346945602565,\n",
       " 17.68313678931214]"
      ]
     },
     "execution_count": 463,
     "metadata": {},
     "output_type": "execute_result"
    }
   ],
   "source": [
    "curve"
   ]
  },
  {
   "cell_type": "code",
   "execution_count": 464,
   "metadata": {},
   "outputs": [
    {
     "data": {
      "text/plain": [
       "18.89764417871623"
      ]
     },
     "execution_count": 464,
     "metadata": {},
     "output_type": "execute_result"
    }
   ],
   "source": [
    "log(MA[6])"
   ]
  },
  {
   "cell_type": "code",
   "execution_count": null,
   "metadata": {},
   "outputs": [],
   "source": []
  },
  {
   "cell_type": "code",
   "execution_count": 465,
   "metadata": {},
   "outputs": [
    {
     "data": {
      "text/plain": [
       "0.2968562127975086"
      ]
     },
     "execution_count": 465,
     "metadata": {},
     "output_type": "execute_result"
    }
   ],
   "source": [
    "exp(curve[-1])/MA6"
   ]
  },
  {
   "cell_type": "code",
   "execution_count": 466,
   "metadata": {},
   "outputs": [
    {
     "data": {
      "text/plain": [
       "3.3686342306135915"
      ]
     },
     "execution_count": 466,
     "metadata": {},
     "output_type": "execute_result"
    }
   ],
   "source": [
    "MA6/exp(curve[-1])"
   ]
  },
  {
   "cell_type": "code",
   "execution_count": 467,
   "metadata": {},
   "outputs": [],
   "source": [
    "curve_AC=[(log_AC[-1]**(n-4))/(log_AC[-2]**(n-5)) for n in range(7)]"
   ]
  },
  {
   "cell_type": "code",
   "execution_count": 468,
   "metadata": {},
   "outputs": [
    {
     "data": {
      "text/plain": [
       "[0.15118163079666072,\n",
       " 0.3515210634343872,\n",
       " 0.8173417457325897,\n",
       " 1.9004480778202095,\n",
       " 4.418840607796598,\n",
       " 10.274499232574913,\n",
       " 23.889826280206417]"
      ]
     },
     "execution_count": 468,
     "metadata": {},
     "output_type": "execute_result"
    }
   ],
   "source": [
    "curve_AC"
   ]
  },
  {
   "cell_type": "code",
   "execution_count": 469,
   "metadata": {},
   "outputs": [
    {
     "data": {
      "text/plain": [
       "(23725737829.648983, 138832442543)"
      ]
     },
     "execution_count": 469,
     "metadata": {},
     "output_type": "execute_result"
    }
   ],
   "source": [
    "exp(curve_AC[-1]), A6"
   ]
  },
  {
   "cell_type": "code",
   "execution_count": 470,
   "metadata": {},
   "outputs": [
    {
     "data": {
      "text/plain": [
       "0.17089476634613346"
      ]
     },
     "execution_count": 470,
     "metadata": {},
     "output_type": "execute_result"
    }
   ],
   "source": [
    "exp(curve_AC[-1])/A6"
   ]
  },
  {
   "cell_type": "code",
   "execution_count": 471,
   "metadata": {},
   "outputs": [
    {
     "data": {
      "text/plain": [
       "5.851554271560203"
      ]
     },
     "execution_count": 471,
     "metadata": {},
     "output_type": "execute_result"
    }
   ],
   "source": [
    "1/exp(curve_AC[-1])*A6"
   ]
  },
  {
   "cell_type": "code",
   "execution_count": 472,
   "metadata": {},
   "outputs": [
    {
     "data": {
      "text/plain": [
       "2.4971079380944072"
      ]
     },
     "execution_count": 472,
     "metadata": {},
     "output_type": "execute_result"
    }
   ],
   "source": [
    "log(A6)/log_AC[-1]"
   ]
  },
  {
   "cell_type": "code",
   "execution_count": 473,
   "metadata": {},
   "outputs": [
    {
     "data": {
      "text/plain": [
       "2.325157240215136"
      ]
     },
     "execution_count": 473,
     "metadata": {},
     "output_type": "execute_result"
    }
   ],
   "source": [
    "log_AC[-1]/log_AC[-2]"
   ]
  },
  {
   "cell_type": "code",
   "execution_count": 474,
   "metadata": {},
   "outputs": [
    {
     "data": {
      "text/plain": [
       "2.3296875513123667"
      ]
     },
     "execution_count": 474,
     "metadata": {},
     "output_type": "execute_result"
    }
   ],
   "source": [
    "log_MA[-1]/log_MA[-2]"
   ]
  },
  {
   "cell_type": "code",
   "execution_count": 475,
   "metadata": {},
   "outputs": [
    {
     "data": {
      "text/plain": [
       "2.718281828459045"
      ]
     },
     "execution_count": 475,
     "metadata": {},
     "output_type": "execute_result"
    }
   ],
   "source": [
    "exp(1)"
   ]
  },
  {
   "cell_type": "code",
   "execution_count": 476,
   "metadata": {},
   "outputs": [],
   "source": [
    "curve_AC_45=[(log_AC[-2]**(n-4))/(log_AC[-3]**(n-5)) for n in range(8)]"
   ]
  },
  {
   "cell_type": "code",
   "execution_count": 477,
   "metadata": {},
   "outputs": [
    {
     "data": {
      "text/plain": [
       "(11969.22883718026, 138832442543)"
      ]
     },
     "execution_count": 477,
     "metadata": {},
     "output_type": "execute_result"
    }
   ],
   "source": [
    "exp(curve_AC_45[6]), A6"
   ]
  },
  {
   "cell_type": "code",
   "execution_count": 379,
   "metadata": {},
   "outputs": [
    {
     "data": {
      "text/plain": [
       "11399430.8168097"
      ]
     },
     "execution_count": 379,
     "metadata": {},
     "output_type": "execute_result"
    }
   ],
   "source": [
    "A6/exp(curve_AC_45[6])"
   ]
  },
  {
   "cell_type": "code",
   "execution_count": 228,
   "metadata": {},
   "outputs": [],
   "source": [
    "#28763702470876/A7"
   ]
  }
 ],
 "metadata": {
  "kernelspec": {
   "display_name": "Python 3 (ipykernel)",
   "language": "python",
   "name": "python3"
  },
  "language_info": {
   "codemirror_mode": {
    "name": "ipython",
    "version": 3
   },
   "file_extension": ".py",
   "mimetype": "text/x-python",
   "name": "python",
   "nbconvert_exporter": "python",
   "pygments_lexer": "ipython3",
   "version": "3.9.7"
  }
 },
 "nbformat": 4,
 "nbformat_minor": 2
}
